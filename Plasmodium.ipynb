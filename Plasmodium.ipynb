{
 "cells": [
  {
   "cell_type": "code",
   "execution_count": 1,
   "metadata": {},
   "outputs": [],
   "source": [
    "from mrc import DVFile, imread\n",
    "import numpy as np\n",
    "from matplotlib import pyplot as plt\n",
    "import imageio\n",
    "import cv2\n",
    "from PIL import Image, ImageStat\n",
    "import os\n",
    "from enum import Enum\n",
    "import plotly.express as px\n",
    "from plotly.subplots import make_subplots\n",
    "from IPython.display import display, clear_output\n",
    "import warnings\n",
    "from ipywidgets import interact, interact_manual, widgets, Dropdown\n",
    "import plotly.graph_objects as go\n",
    "import dash\n",
    "import dash_core_components as dcc\n",
    "import dash_html_components as html\n",
    "import pandas as pd\n",
    "from PIL import Image\n",
    "%matplotlib inline\n"
   ]
  },
  {
   "cell_type": "code",
   "execution_count": 2,
   "metadata": {},
   "outputs": [],
   "source": [
    "dv_files = []\n",
    "\n",
    "\n",
    "class headerTuples(Enum):\n",
    "    photosensorReading = 0\n",
    "    timeStampSeconds = 1\n",
    "    stageXCoord = 2\n",
    "    stageYCoord = 3\n",
    "    stageZCoord = 4\n",
    "    minInten = 5\n",
    "    maxInten = 6\n",
    "    meanInten = 7\n",
    "    expTime = 8\n",
    "    ndFilter = 9\n",
    "    exWavelen = 10\n",
    "    emWavelen = 11\n",
    "    intenScaling = 12\n",
    "    energyConvFactor = 13\n",
    "\n",
    "\n",
    "def read_as_nparray(filename: str):\n",
    "    img_array = imread(filename)\n",
    "    assert len(\n",
    "        img_array) > 0, f\"file {filename} is not a valid DV file or is corrupted.\"\n",
    "    return img_array\n",
    "\n",
    "\n",
    "def save_nparray_image_as_png(nparray_image: np.ndarray, directory: str, filename: str):\n",
    "    assert len(\n",
    "        nparray_image.shape) == 2, \"pass one image at a time. e.g. a 500 by 500 array\"\n",
    "    imageio.imwrite(f\"{filename}.png\", nparray_image)\n",
    "\n",
    "\n",
    "def find_dv_files(parent_dir='.'):\n",
    "    global dv_files\n",
    "    dv_files = []\n",
    "    for root, dirs, files in os.walk(\".\", topdown=False):\n",
    "        for name in files:\n",
    "            _, ext = os.path.splitext(name)\n",
    "            if ext == '.dv':\n",
    "                # print(os.path.join(root, name))\n",
    "                dv_files.append(os.path.join(root, name))\n",
    "\n",
    "\n",
    "find_dv_files()\n",
    "\n",
    "\n",
    "def load_dv_file(file_name):\n",
    "    return DVFile(file_name)\n",
    "\n",
    "\n",
    "def get_intensities(dv_img, type: str = 'mean'):\n",
    "    intensities = []\n",
    "    for i in range(81):\n",
    "        if type == 'mean':\n",
    "            intensities.append(dv_img.ext_hdr.frame(i)[\n",
    "                headerTuples.meanInten.value])\n",
    "        if type == 'min':\n",
    "            intensities.append(dv_img.ext_hdr.frame(i)[\n",
    "                headerTuples.minInten.value])\n",
    "        if type == 'max':\n",
    "            intensities.append(dv_img.ext_hdr.frame(i)[\n",
    "                headerTuples.maxInten.value])\n",
    "    return intensities\n",
    "\n",
    "\n",
    "def get_dv_data(img: DVFile):\n",
    "    return img.asarray()\n"
   ]
  },
  {
   "cell_type": "code",
   "execution_count": 3,
   "metadata": {},
   "outputs": [],
   "source": [
    "# dv_file = load_dv_file(dv_files[0])\n",
    "# meanIntensities = []\n",
    "# meanIntensities = get_intensities(dv_file)\n",
    "# image = get_dv_data(dv_file)\n",
    "# all_slices = np.ndarray((82, 960, 960))\n",
    "# all_slices = np.concatenate((image[0], image[1]))\n"
   ]
  },
  {
   "cell_type": "code",
   "execution_count": 4,
   "metadata": {},
   "outputs": [],
   "source": [
    "# @interact\n",
    "# def showImageByIndex(index= widgets.IntSlider(min=0,max=40,value=0,step=1)):\n",
    "#     # img_scaled = cv2.normalize(all_slices[index], dst=None, alpha=0, beta=512, norm_type=cv2.NORM_MINMAX)\n",
    "#     fig, ax = plt.subplots(2, 2, figsize=(14, 14))\n",
    "    \n",
    "#     display(plt.imshow(all_slices[index],cmap=plt.cm.gray_r, interpolation='nearest'))\n",
    "    \n",
    "    "
   ]
  },
  {
   "cell_type": "code",
   "execution_count": 5,
   "metadata": {},
   "outputs": [],
   "source": [
    "# def draw():\n",
    "#     fig, axs = plt.subplots(2, 2, figsize=(14, 14))\n",
    "\n",
    "#     def browse_images(filename):\n",
    "#         n = 40\n",
    "#         dv_file = load_dv_file(filename)\n",
    "#         image = get_dv_data(dv_file)\n",
    "#         all_slices = np.ndarray((82, 960, 960))\n",
    "#         all_slices = np.concatenate((image[0], image[1]))\n",
    "#         meanIntensities = []\n",
    "#         meanIntensities = get_intensities(dv_file)\n",
    "#         axs[0, 0].plot(meanIntensities[:40])\n",
    "#         axs[0, 1].plot(meanIntensities[41:])\n",
    "#         axs[1, 0].imshow(all_slices[0])\n",
    "#         axs[1, 1].imshow(all_slices[41])\n",
    "#         def view_image(i):\n",
    "#             axs[1, 0].imshow(all_slices[i])\n",
    "#             axs[1, 1].imshow(all_slices[i+40])\n",
    "#             # plt.imshow(all_slices[i], cmap=plt.cm.gray_r, interpolation='nearest')\n",
    "#             plt.show()\n",
    "#             # return plt.imshow(all_slices[i], cmap=plt.cm.gray_r, interpolation='nearest')\n",
    "\n",
    "#         interact(view_image, i=(0, n))\n",
    "#     interact(browse_images, filename=widgets.Dropdown(\n",
    "#         options=dv_files, description=\"Select file to analyze\"))\n",
    "#     fig\n",
    "\n",
    "\n",
    "# draw()\n"
   ]
  },
  {
   "cell_type": "code",
   "execution_count": 26,
   "metadata": {},
   "outputs": [
    {
     "data": {
      "application/vnd.jupyter.widget-view+json": {
       "model_id": "37d72299b5e148819e3c6e433a849e23",
       "version_major": 2,
       "version_minor": 0
      },
      "text/plain": [
       "interactive(children=(Dropdown(description='select file', options=('.\\\\Cpd1M9P-1\\\\220315Cpd1GlcM9P-02_R3D_01_D…"
      ]
     },
     "metadata": {},
     "output_type": "display_data"
    }
   ],
   "source": [
    "def draw():\n",
    "\n",
    "    @interact\n",
    "    def brows_files(filename=widgets.Dropdown(options=dv_files, description=\"select file\"), i=widgets.IntSlider(min=0, max=40, step=1, value=0)):\n",
    "        dv_file = load_dv_file(filename)\n",
    "        image = get_dv_data(dv_file)\n",
    "        n = image.shape[1] - 1 if image is not None else 40\n",
    "        all_slices = np.ndarray((82, 960, 960))\n",
    "        all_slices = np.concatenate((image[0], image[1]))\n",
    "        avgIntensities = []\n",
    "        minIntensities = []\n",
    "        maxIntensities = []\n",
    "        avgIntensities = get_intensities(dv_file, 'mean')\n",
    "        minIntensities = get_intensities(dv_file, 'min')\n",
    "        maxIntensities = get_intensities(dv_file, 'max')\n",
    "        \n",
    "\n",
    "        # def mean(i, j): return np.mean(image[i, j])\n",
    "\n",
    "        fig, axs = plt.subplots(2, 4, figsize=(20, 10))\n",
    "\n",
    "        calcMeanIntens = []\n",
    "        for j in range(len(all_slices)):\n",
    "            calcMeanIntens.append(np.mean(all_slices[j]))\n",
    "        \n",
    "        calcMinIntens =[]\n",
    "        for j in range(len(all_slices)):\n",
    "            calcMinIntens.append(np.min(all_slices[j]))\n",
    "            \n",
    "        calcMaxIntens =[]\n",
    "        for j in range(len(all_slices)):\n",
    "            calcMaxIntens.append(np.max(all_slices[j]))\n",
    "\n",
    "        axs[0, 0].imshow(image[0, i], cmap=plt.cm.gray_r, interpolation='nearest')\n",
    "        axs[1, 0].imshow(image[1, i], cmap=plt.cm.gray_r, interpolation='nearest')\n",
    "\n",
    "        axs[0, 1].plot(minIntensities[:n])\n",
    "        axs[0, 1].plot(calcMinIntens[:n])\n",
    "        axs[0, 1].plot(i, minIntensities[i], 'go')\n",
    "        axs[1, 1].plot(minIntensities[n+1:])\n",
    "        axs[1, 1].plot(calcMinIntens[n+1:])\n",
    "        axs[1, 1].plot(i, minIntensities[n+1+i], 'go')\n",
    "        axs[0, 1].set_title(\"minimum pixel intensity\")\n",
    "\n",
    "        axs[0, 2].plot(avgIntensities[:n])\n",
    "        axs[0, 2].plot(calcMeanIntens[:n])\n",
    "        axs[0, 2].plot(i, avgIntensities[i], 'go')\n",
    "        axs[1, 2].plot(avgIntensities[n+1:])\n",
    "        axs[1, 2].plot(calcMeanIntens[n+1:])\n",
    "        axs[1, 2].plot(i, avgIntensities[n+1+i], 'go')\n",
    "\n",
    "        axs[0, 2].set_title(\"average pixel intensity\")\n",
    "\n",
    "        axs[0, 3].plot(maxIntensities[:n])\n",
    "        axs[0, 3].plot(calcMaxIntens[:n])\n",
    "        axs[0, 3].plot(i, maxIntensities[i], 'go')\n",
    "        axs[1, 3].plot(maxIntensities[n+1:])\n",
    "        axs[1, 3].plot(calcMaxIntens[n+1:])\n",
    "        axs[1, 3].plot(i, maxIntensities[n+1+i], 'go')\n",
    "        axs[0, 3].set_title(\"maximum pixel intensity\")\n",
    "\n",
    "        fig.tight_layout()\n",
    "\n",
    "\n",
    "draw()\n"
   ]
  },
  {
   "cell_type": "code",
   "execution_count": 27,
   "metadata": {},
   "outputs": [
    {
     "data": {
      "text/plain": [
       "[<matplotlib.lines.Line2D at 0x166002768e0>]"
      ]
     },
     "execution_count": 27,
     "metadata": {},
     "output_type": "execute_result"
    },
    {
     "data": {
      "image/png": "[encoded data removed]",
      "text/plain": [
       "<Figure size 432x288 with 1 Axes>"
      ]
     },
     "metadata": {
      "needs_background": "light"
     },
     "output_type": "display_data"
    }
   ],
   "source": [
    "dv_file = load_dv_file(dv_files[0])\n",
    "image = get_dv_data(dv_file)\n",
    "all_slices = np.ndarray((82, 960, 960))\n",
    "all_slices = np.concatenate((image[0], image[1]))\n",
    "\n",
    "mycalc1 = []\n",
    "mycalc2 = []\n",
    "mycalc3 = []\n",
    "for jj in range(81):\n",
    "    im1 = Image.fromarray(all_slices[jj], mode='L')\n",
    "    im2 = Image.fromarray(all_slices[jj], mode='P')\n",
    "    im3 = Image.fromarray(all_slices[jj], mode='I;16')\n",
    "    stat1 = ImageStat.Stat(im1)\n",
    "    stat2 = ImageStat.Stat(im2)\n",
    "    stat3 = ImageStat.Stat(im3)\n",
    "    mycalc1.append(stat1.mean)\n",
    "    mycalc2.append(stat2.mean)\n",
    "    mycalc3.append(stat3.mean)\n",
    "\n",
    "plt.plot(mycalc1[:40])\n",
    "# plt.plot(mycalc[41:])\n"
   ]
  },
  {
   "cell_type": "code",
   "execution_count": 59,
   "metadata": {},
   "outputs": [
    {
     "name": "stdout",
     "output_type": "stream",
     "text": [
      "None\n"
     ]
    }
   ],
   "source": []
  },
  {
   "cell_type": "code",
   "execution_count": null,
   "metadata": {},
   "outputs": [],
   "source": [
    "def load_file_disp_plots(filename):\n",
    "    # filename = sample.new\n",
    "    dv_file = load_dv_file(filename)\n",
    "    image = get_dv_data(dv_file)\n",
    "    meanIntensities = []\n",
    "    meanIntensities = get_intensities(dv_file)\n",
    "\n",
    "    fig = make_subplots(rows=1, cols=2, subplot_titles=(\"01:41\", \"42:82\"))\n",
    "    fig.add_trace(\n",
    "        go.Scatter(y=meanIntensities[:40]),\n",
    "        1, 1)\n",
    "    fig.add_trace(\n",
    "        go.Scatter(y=meanIntensities[41:]),\n",
    "        1, 2)\n",
    "\n",
    "    fig.update_layout(title_text=file_name)\n",
    "    slider1 = px.imshow(image[0, :, :, :], animation_frame=0,\n",
    "                        binary_string=True, labels=dict(animation_frame=\"slice\"))\n",
    "    slider2 = px.imshow(image[1, :, :, :], animation_frame=0,\n",
    "                        binary_string=True, labels=dict(animation_frame=\"slice\"))\n",
    "    display(fig)\n",
    "    # display(slider1, slider2)\n",
    "\n",
    "\n",
    "# choose_file = widgets.Dropdown(\n",
    "#     options=dv_files, description=\"Select file to analyze\")\n",
    "imageSlider = widgets.IntSlider(min=0, max=82, step=1, value=0)\n",
    "\n",
    "\n",
    "@interact\n",
    "def showImage(slideNumber=imageSlider):\n",
    "    display(plt.imshow(first_half[slideNumber]))\n",
    "\n",
    "\n",
    "# imageSlider.observe(showImage, 'value')\n",
    "# choose_file.observe(load_file_disp_plots, 'value')\n",
    "# _ = interact(load_file_disp_plots, filename=dv_files)\n",
    "# __ = interact(showImage, slideNumber=len(first_half))\n"
   ]
  },
  {
   "cell_type": "code",
   "execution_count": null,
   "metadata": {},
   "outputs": [],
   "source": [
    "\n",
    "fig = make_subplots(rows=1, cols=2, subplot_titles=(\"01:41\", \"42:82\"))\n",
    "\n",
    "fig.add_trace(\n",
    "    go.Scatter(y=meanIntensities[:40]),\n",
    "    1, 1)\n",
    "fig.add_trace(\n",
    "    go.Scatter(y=meanIntensities[41:]),\n",
    "    1, 2)\n",
    "\n",
    "fig.update_layout(title_text=file_name)\n",
    "\n",
    "display(fig.show())\n"
   ]
  },
  {
   "cell_type": "code",
   "execution_count": null,
   "metadata": {},
   "outputs": [],
   "source": [
    "slider1 = px.imshow(img.data[1, :, 0, :, :], animation_frame=0,\n",
    "                    binary_string=True, labels=dict(animation_frame=\"slice\"))\n",
    "# type(slider1)\n",
    "\n",
    "ff = go.Figure(slider1)\n",
    "fig.show()\n",
    "ff.show()\n",
    "# fig2 = make_subplots(rows=1, cols=2, subplot_titles=(\"01:41\", \"42:82\"))\n",
    "# # print(fig2)\n",
    "# fig2.add_trace(img.data[1, :, 0, :, :],1,1)\n"
   ]
  },
  {
   "cell_type": "code",
   "execution_count": null,
   "metadata": {},
   "outputs": [],
   "source": [
    "app = dash.Dash()\n",
    "app.layout = html.Div([\n",
    "    dcc.Graph(figure=ff)\n",
    "])\n",
    "\n",
    "\n",
    "# Turn off reloader if inside Jupyter\n",
    "app.run_server(debug=True, use_reloader=False)\n"
   ]
  },
  {
   "cell_type": "code",
   "execution_count": null,
   "metadata": {},
   "outputs": [],
   "source": [
    "\n",
    "# fig = px.imshow(img.data[1,:,0,:,:], animation_frame=0, binary_string=True,\n",
    "#                 labels=dict(animation_frame=\"slice\"))\n",
    "fig1 = px.line(meanIntensities[0:40])\n",
    "# fig.add_image(px.imshow(img.data[1,:,0,:,:], binary_string=True ),row=1,col=2)\n",
    "fig1.show()\n",
    "fig2 = px.imshow(img.data[1, :, 0, :, :], animation_frame=0,\n",
    "                 binary_string=True, labels=dict(animation_frame=\"slice\"))\n",
    "fig2.show()\n"
   ]
  },
  {
   "cell_type": "code",
   "execution_count": null,
   "metadata": {},
   "outputs": [],
   "source": [
    "imgdv = DVFile('./GlcM9P-3/220512GlcM9P-04_R3D_01_D3D.dv')\n",
    "# imgdv.hdr\n",
    "# imgdv.ext_hdr.frame(0)\n",
    "imgdv.ext_hdr.frame(41)[headerTuples.meanInten.value]\n",
    "meanIntensities = []\n",
    "for i in range(81):\n",
    "    meanIntensities.append(imgdv.ext_hdr.frame(i)[headerTuples.meanInten.value]\n",
    "                           )\n",
    "plt.plot(meanIntensities[0:40])\n",
    "plt.show()\n",
    "plt.plot(meanIntensities[41:])\n",
    "plt.show()\n"
   ]
  },
  {
   "cell_type": "code",
   "execution_count": null,
   "metadata": {},
   "outputs": [],
   "source": [
    "outputDir = os.path.join(os.path.expanduser(\"~\"), \"Desktop\")\n",
    "imageio.imwrite(f\"{outputDir}\\mypngfile1.png\", img[0, 0], format=\"png\")\n",
    "# imageio.imwrite(\"mypngfile2.png\",img[1,0],format=\"png\")\n",
    "# imageio.imwrite(\"mypngfile3.png\",(img[1,0] + img[0,0])/2)\n"
   ]
  }
 ],
 "metadata": {
  "kernelspec": {
   "display_name": "Python 3.9.12 ('base')",
   "language": "python",
   "name": "python3"
  },
  "language_info": {
   "codemirror_mode": {
    "name": "ipython",
    "version": 3
   },
   "file_extension": ".py",
   "mimetype": "text/x-python",
   "name": "python",
   "nbconvert_exporter": "python",
   "pygments_lexer": "ipython3",
   "version": "3.9.12"
  },
  "orig_nbformat": 4,
  "vscode": {
   "interpreter": {
    "hash": "49cb93f377a7abe7414b7b0f21fb3017538004a126cf690fb524202736b7fb92"
   }
  }
 },
 "nbformat": 4,
 "nbformat_minor": 2
}
